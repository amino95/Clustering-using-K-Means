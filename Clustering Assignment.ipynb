{
 "cells": [
  {
   "cell_type": "markdown",
   "metadata": {},
   "source": [
    "# Clustering Using Scikit-Learn Library\n",
    "## Part 1 : kMeans Clustering\n",
    "\n"
   ]
  },
  {
   "cell_type": "markdown",
   "metadata": {},
   "source": [
    "### Description of the dataset\n",
    "The dataset we will use contains preprocessed/clean data about **440 clients** of a wholesale distributor, mainly about the products that clients buy during one year. Below is a brief description of the **8 attributes** in this dataset:\n",
    "\n",
    "- FRESH: annual spending on fresh products\n",
    "- MILK: annual spending on milk products\n",
    "- GROCERY: annual spending on grocery products\n",
    "- FROZEN: annual spending on frozen products\n",
    "- DETERGENTS_PAPER: annual spending on detergents and paper products\n",
    "- DELICATESSEN: annual spending on delicatessen products\n",
    "- TYPE: type of customer - Hotel/Restaurant/Cafe (1) or wholesale depot (2)\n",
    "- REGION: region where customer lives - Tunis (1), Sfax (2) or Other (3)\n",
    "\n",
    "We will use this dataset to extract clustering patterns, i.e. determine whether these customers can be divided into a small number of groups.\n",
    "\n",
    "Source: http://archive.ics.uci.edu/ml/datasets/Wholesale+customers"
   ]
  },
  {
   "cell_type": "code",
   "execution_count": 1,
   "metadata": {},
   "outputs": [],
   "source": [
    "# import Python libraries we will need later\n",
    "\n",
    "import pandas as pd\n",
    "import numpy as np\n",
    "from matplotlib import pyplot as plt"
   ]
  },
  {
   "cell_type": "code",
   "execution_count": 2,
   "metadata": {},
   "outputs": [],
   "source": [
    "# allow plots to appear inside the notebook\n",
    "%matplotlib inline\n",
    "\n",
    "# set the font size of plots\n",
    "plt.rcParams['font.size'] = 14"
   ]
  },
  {
   "cell_type": "code",
   "execution_count": 3,
   "metadata": {},
   "outputs": [],
   "source": [
    "# import some modules from the scikit-learn library\n",
    "\n",
    "from sklearn.preprocessing import MinMaxScaler\n",
    "from sklearn.cluster import KMeans\n",
    "from sklearn.metrics import silhouette_score"
   ]
  },
  {
   "cell_type": "markdown",
   "metadata": {},
   "source": [
    "***"
   ]
  },
  {
   "cell_type": "markdown",
   "metadata": {},
   "source": [
    "## Get the data"
   ]
  },
  {
   "cell_type": "code",
   "execution_count": 4,
   "metadata": {},
   "outputs": [],
   "source": [
    "df0 = pd.read_csv('Wholesale customers data.csv')"
   ]
  },
  {
   "cell_type": "code",
   "execution_count": 5,
   "metadata": {},
   "outputs": [
    {
     "name": "stdout",
     "output_type": "stream",
     "text": [
      "<class 'pandas.core.frame.DataFrame'>\n",
      "(440, 8)\n"
     ]
    }
   ],
   "source": [
    "print(type(df0))\n",
    "print(df0.shape)"
   ]
  },
  {
   "cell_type": "code",
   "execution_count": 6,
   "metadata": {},
   "outputs": [
    {
     "data": {
      "text/html": [
       "<div>\n",
       "<style scoped>\n",
       "    .dataframe tbody tr th:only-of-type {\n",
       "        vertical-align: middle;\n",
       "    }\n",
       "\n",
       "    .dataframe tbody tr th {\n",
       "        vertical-align: top;\n",
       "    }\n",
       "\n",
       "    .dataframe thead th {\n",
       "        text-align: right;\n",
       "    }\n",
       "</style>\n",
       "<table border=\"1\" class=\"dataframe\">\n",
       "  <thead>\n",
       "    <tr style=\"text-align: right;\">\n",
       "      <th></th>\n",
       "      <th>Type</th>\n",
       "      <th>Region</th>\n",
       "      <th>Fresh</th>\n",
       "      <th>Milk</th>\n",
       "      <th>Grocery</th>\n",
       "      <th>Frozen</th>\n",
       "      <th>Detergents_Paper</th>\n",
       "      <th>Delicassen</th>\n",
       "    </tr>\n",
       "  </thead>\n",
       "  <tbody>\n",
       "    <tr>\n",
       "      <th>0</th>\n",
       "      <td>2</td>\n",
       "      <td>3</td>\n",
       "      <td>12669</td>\n",
       "      <td>9656</td>\n",
       "      <td>7561</td>\n",
       "      <td>214</td>\n",
       "      <td>2674</td>\n",
       "      <td>1338</td>\n",
       "    </tr>\n",
       "    <tr>\n",
       "      <th>1</th>\n",
       "      <td>2</td>\n",
       "      <td>3</td>\n",
       "      <td>7057</td>\n",
       "      <td>9810</td>\n",
       "      <td>9568</td>\n",
       "      <td>1762</td>\n",
       "      <td>3293</td>\n",
       "      <td>1776</td>\n",
       "    </tr>\n",
       "    <tr>\n",
       "      <th>2</th>\n",
       "      <td>2</td>\n",
       "      <td>3</td>\n",
       "      <td>6353</td>\n",
       "      <td>8808</td>\n",
       "      <td>7684</td>\n",
       "      <td>2405</td>\n",
       "      <td>3516</td>\n",
       "      <td>7844</td>\n",
       "    </tr>\n",
       "    <tr>\n",
       "      <th>3</th>\n",
       "      <td>1</td>\n",
       "      <td>3</td>\n",
       "      <td>13265</td>\n",
       "      <td>1196</td>\n",
       "      <td>4221</td>\n",
       "      <td>6404</td>\n",
       "      <td>507</td>\n",
       "      <td>1788</td>\n",
       "    </tr>\n",
       "    <tr>\n",
       "      <th>4</th>\n",
       "      <td>2</td>\n",
       "      <td>3</td>\n",
       "      <td>22615</td>\n",
       "      <td>5410</td>\n",
       "      <td>7198</td>\n",
       "      <td>3915</td>\n",
       "      <td>1777</td>\n",
       "      <td>5185</td>\n",
       "    </tr>\n",
       "  </tbody>\n",
       "</table>\n",
       "</div>"
      ],
      "text/plain": [
       "   Type  Region  Fresh  Milk  Grocery  Frozen  Detergents_Paper  Delicassen\n",
       "0     2       3  12669  9656     7561     214              2674        1338\n",
       "1     2       3   7057  9810     9568    1762              3293        1776\n",
       "2     2       3   6353  8808     7684    2405              3516        7844\n",
       "3     1       3  13265  1196     4221    6404               507        1788\n",
       "4     2       3  22615  5410     7198    3915              1777        5185"
      ]
     },
     "execution_count": 6,
     "metadata": {},
     "output_type": "execute_result"
    }
   ],
   "source": [
    "df0.head()"
   ]
  },
  {
   "cell_type": "code",
   "execution_count": 7,
   "metadata": {},
   "outputs": [
    {
     "data": {
      "text/plain": [
       "Type                int64\n",
       "Region              int64\n",
       "Fresh               int64\n",
       "Milk                int64\n",
       "Grocery             int64\n",
       "Frozen              int64\n",
       "Detergents_Paper    int64\n",
       "Delicassen          int64\n",
       "dtype: object"
      ]
     },
     "execution_count": 7,
     "metadata": {},
     "output_type": "execute_result"
    }
   ],
   "source": [
    "df0.dtypes"
   ]
  },
  {
   "cell_type": "code",
   "execution_count": 8,
   "metadata": {},
   "outputs": [
    {
     "data": {
      "text/html": [
       "<div>\n",
       "<style scoped>\n",
       "    .dataframe tbody tr th:only-of-type {\n",
       "        vertical-align: middle;\n",
       "    }\n",
       "\n",
       "    .dataframe tbody tr th {\n",
       "        vertical-align: top;\n",
       "    }\n",
       "\n",
       "    .dataframe thead th {\n",
       "        text-align: right;\n",
       "    }\n",
       "</style>\n",
       "<table border=\"1\" class=\"dataframe\">\n",
       "  <thead>\n",
       "    <tr style=\"text-align: right;\">\n",
       "      <th></th>\n",
       "      <th>Type</th>\n",
       "      <th>Region</th>\n",
       "      <th>Fresh</th>\n",
       "      <th>Milk</th>\n",
       "      <th>Grocery</th>\n",
       "      <th>Frozen</th>\n",
       "      <th>Detergents_Paper</th>\n",
       "      <th>Delicassen</th>\n",
       "    </tr>\n",
       "  </thead>\n",
       "  <tbody>\n",
       "    <tr>\n",
       "      <th>count</th>\n",
       "      <td>440.000000</td>\n",
       "      <td>440.000000</td>\n",
       "      <td>440.000000</td>\n",
       "      <td>440.000000</td>\n",
       "      <td>440.000000</td>\n",
       "      <td>440.000000</td>\n",
       "      <td>440.000000</td>\n",
       "      <td>440.000000</td>\n",
       "    </tr>\n",
       "    <tr>\n",
       "      <th>mean</th>\n",
       "      <td>1.322727</td>\n",
       "      <td>2.543182</td>\n",
       "      <td>12000.297727</td>\n",
       "      <td>5796.265909</td>\n",
       "      <td>7951.277273</td>\n",
       "      <td>3071.931818</td>\n",
       "      <td>2881.493182</td>\n",
       "      <td>1524.870455</td>\n",
       "    </tr>\n",
       "    <tr>\n",
       "      <th>std</th>\n",
       "      <td>0.468052</td>\n",
       "      <td>0.774272</td>\n",
       "      <td>12647.328865</td>\n",
       "      <td>7380.377175</td>\n",
       "      <td>9503.162829</td>\n",
       "      <td>4854.673333</td>\n",
       "      <td>4767.854448</td>\n",
       "      <td>2820.105937</td>\n",
       "    </tr>\n",
       "    <tr>\n",
       "      <th>min</th>\n",
       "      <td>1.000000</td>\n",
       "      <td>1.000000</td>\n",
       "      <td>3.000000</td>\n",
       "      <td>55.000000</td>\n",
       "      <td>3.000000</td>\n",
       "      <td>25.000000</td>\n",
       "      <td>3.000000</td>\n",
       "      <td>3.000000</td>\n",
       "    </tr>\n",
       "    <tr>\n",
       "      <th>25%</th>\n",
       "      <td>1.000000</td>\n",
       "      <td>2.000000</td>\n",
       "      <td>3127.750000</td>\n",
       "      <td>1533.000000</td>\n",
       "      <td>2153.000000</td>\n",
       "      <td>742.250000</td>\n",
       "      <td>256.750000</td>\n",
       "      <td>408.250000</td>\n",
       "    </tr>\n",
       "    <tr>\n",
       "      <th>50%</th>\n",
       "      <td>1.000000</td>\n",
       "      <td>3.000000</td>\n",
       "      <td>8504.000000</td>\n",
       "      <td>3627.000000</td>\n",
       "      <td>4755.500000</td>\n",
       "      <td>1526.000000</td>\n",
       "      <td>816.500000</td>\n",
       "      <td>965.500000</td>\n",
       "    </tr>\n",
       "    <tr>\n",
       "      <th>75%</th>\n",
       "      <td>2.000000</td>\n",
       "      <td>3.000000</td>\n",
       "      <td>16933.750000</td>\n",
       "      <td>7190.250000</td>\n",
       "      <td>10655.750000</td>\n",
       "      <td>3554.250000</td>\n",
       "      <td>3922.000000</td>\n",
       "      <td>1820.250000</td>\n",
       "    </tr>\n",
       "    <tr>\n",
       "      <th>max</th>\n",
       "      <td>2.000000</td>\n",
       "      <td>3.000000</td>\n",
       "      <td>112151.000000</td>\n",
       "      <td>73498.000000</td>\n",
       "      <td>92780.000000</td>\n",
       "      <td>60869.000000</td>\n",
       "      <td>40827.000000</td>\n",
       "      <td>47943.000000</td>\n",
       "    </tr>\n",
       "  </tbody>\n",
       "</table>\n",
       "</div>"
      ],
      "text/plain": [
       "             Type      Region          Fresh          Milk       Grocery  \\\n",
       "count  440.000000  440.000000     440.000000    440.000000    440.000000   \n",
       "mean     1.322727    2.543182   12000.297727   5796.265909   7951.277273   \n",
       "std      0.468052    0.774272   12647.328865   7380.377175   9503.162829   \n",
       "min      1.000000    1.000000       3.000000     55.000000      3.000000   \n",
       "25%      1.000000    2.000000    3127.750000   1533.000000   2153.000000   \n",
       "50%      1.000000    3.000000    8504.000000   3627.000000   4755.500000   \n",
       "75%      2.000000    3.000000   16933.750000   7190.250000  10655.750000   \n",
       "max      2.000000    3.000000  112151.000000  73498.000000  92780.000000   \n",
       "\n",
       "             Frozen  Detergents_Paper    Delicassen  \n",
       "count    440.000000        440.000000    440.000000  \n",
       "mean    3071.931818       2881.493182   1524.870455  \n",
       "std     4854.673333       4767.854448   2820.105937  \n",
       "min       25.000000          3.000000      3.000000  \n",
       "25%      742.250000        256.750000    408.250000  \n",
       "50%     1526.000000        816.500000    965.500000  \n",
       "75%     3554.250000       3922.000000   1820.250000  \n",
       "max    60869.000000      40827.000000  47943.000000  "
      ]
     },
     "execution_count": 8,
     "metadata": {},
     "output_type": "execute_result"
    }
   ],
   "source": [
    "df0.describe()"
   ]
  },
  {
   "cell_type": "code",
   "execution_count": 9,
   "metadata": {},
   "outputs": [
    {
     "data": {
      "text/plain": [
       "1    298\n",
       "2    142\n",
       "Name: Type, dtype: int64"
      ]
     },
     "execution_count": 9,
     "metadata": {},
     "output_type": "execute_result"
    }
   ],
   "source": [
    "df0.Type.value_counts()"
   ]
  },
  {
   "cell_type": "code",
   "execution_count": 10,
   "metadata": {},
   "outputs": [
    {
     "data": {
      "text/plain": [
       "3    316\n",
       "1     77\n",
       "2     47\n",
       "Name: Region, dtype: int64"
      ]
     },
     "execution_count": 10,
     "metadata": {},
     "output_type": "execute_result"
    }
   ],
   "source": [
    "df0.Region.value_counts()"
   ]
  },
  {
   "cell_type": "markdown",
   "metadata": {},
   "source": [
    "*******"
   ]
  },
  {
   "cell_type": "markdown",
   "metadata": {},
   "source": [
    "## Data Preparation"
   ]
  },
  {
   "cell_type": "code",
   "execution_count": 38,
   "metadata": {},
   "outputs": [],
   "source": [
    "?MinMaxScaler"
   ]
  },
  {
   "cell_type": "code",
   "execution_count": 32,
   "metadata": {},
   "outputs": [],
   "source": [
    "# Create a copy of original data frame\n",
    "df_hot = df0"
   ]
  },
  {
   "cell_type": "markdown",
   "metadata": {},
   "source": [
    "###  a) One hot encoding"
   ]
  },
  {
   "cell_type": "code",
   "execution_count": 33,
   "metadata": {},
   "outputs": [
    {
     "data": {
      "text/html": [
       "<div>\n",
       "<style scoped>\n",
       "    .dataframe tbody tr th:only-of-type {\n",
       "        vertical-align: middle;\n",
       "    }\n",
       "\n",
       "    .dataframe tbody tr th {\n",
       "        vertical-align: top;\n",
       "    }\n",
       "\n",
       "    .dataframe thead th {\n",
       "        text-align: right;\n",
       "    }\n",
       "</style>\n",
       "<table border=\"1\" class=\"dataframe\">\n",
       "  <thead>\n",
       "    <tr style=\"text-align: right;\">\n",
       "      <th></th>\n",
       "      <th>Region</th>\n",
       "      <th>Fresh</th>\n",
       "      <th>Milk</th>\n",
       "      <th>Grocery</th>\n",
       "      <th>Frozen</th>\n",
       "      <th>Detergents_Paper</th>\n",
       "      <th>Delicassen</th>\n",
       "      <th>Type_1</th>\n",
       "      <th>Type_2</th>\n",
       "    </tr>\n",
       "  </thead>\n",
       "  <tbody>\n",
       "    <tr>\n",
       "      <th>0</th>\n",
       "      <td>3</td>\n",
       "      <td>12669</td>\n",
       "      <td>9656</td>\n",
       "      <td>7561</td>\n",
       "      <td>214</td>\n",
       "      <td>2674</td>\n",
       "      <td>1338</td>\n",
       "      <td>0</td>\n",
       "      <td>1</td>\n",
       "    </tr>\n",
       "    <tr>\n",
       "      <th>1</th>\n",
       "      <td>3</td>\n",
       "      <td>7057</td>\n",
       "      <td>9810</td>\n",
       "      <td>9568</td>\n",
       "      <td>1762</td>\n",
       "      <td>3293</td>\n",
       "      <td>1776</td>\n",
       "      <td>0</td>\n",
       "      <td>1</td>\n",
       "    </tr>\n",
       "    <tr>\n",
       "      <th>2</th>\n",
       "      <td>3</td>\n",
       "      <td>6353</td>\n",
       "      <td>8808</td>\n",
       "      <td>7684</td>\n",
       "      <td>2405</td>\n",
       "      <td>3516</td>\n",
       "      <td>7844</td>\n",
       "      <td>0</td>\n",
       "      <td>1</td>\n",
       "    </tr>\n",
       "    <tr>\n",
       "      <th>3</th>\n",
       "      <td>3</td>\n",
       "      <td>13265</td>\n",
       "      <td>1196</td>\n",
       "      <td>4221</td>\n",
       "      <td>6404</td>\n",
       "      <td>507</td>\n",
       "      <td>1788</td>\n",
       "      <td>1</td>\n",
       "      <td>0</td>\n",
       "    </tr>\n",
       "    <tr>\n",
       "      <th>4</th>\n",
       "      <td>3</td>\n",
       "      <td>22615</td>\n",
       "      <td>5410</td>\n",
       "      <td>7198</td>\n",
       "      <td>3915</td>\n",
       "      <td>1777</td>\n",
       "      <td>5185</td>\n",
       "      <td>0</td>\n",
       "      <td>1</td>\n",
       "    </tr>\n",
       "  </tbody>\n",
       "</table>\n",
       "</div>"
      ],
      "text/plain": [
       "   Region  Fresh  Milk  Grocery  Frozen  Detergents_Paper  Delicassen  Type_1  \\\n",
       "0       3  12669  9656     7561     214              2674        1338       0   \n",
       "1       3   7057  9810     9568    1762              3293        1776       0   \n",
       "2       3   6353  8808     7684    2405              3516        7844       0   \n",
       "3       3  13265  1196     4221    6404               507        1788       1   \n",
       "4       3  22615  5410     7198    3915              1777        5185       0   \n",
       "\n",
       "   Type_2  \n",
       "0       1  \n",
       "1       1  \n",
       "2       1  \n",
       "3       0  \n",
       "4       1  "
      ]
     },
     "execution_count": 33,
     "metadata": {},
     "output_type": "execute_result"
    }
   ],
   "source": [
    "#  Convert the 'Type' attribute to binary using the get_dummies() method\n",
    "dummies = pd.get_dummies(df_hot['Type'], prefix='Type')  #create 2 binary attributes based on Type attrubute\n",
    "df_hot = pd.concat([df_hot, dummies], axis=1)    #add these attrubutes to data frame\n",
    "df_hot.drop('Type', axis=1, inplace=True)  # remove the categorical attribute from data frame\n",
    "df_hot.head()"
   ]
  },
  {
   "cell_type": "code",
   "execution_count": 34,
   "metadata": {},
   "outputs": [
    {
     "data": {
      "text/html": [
       "<div>\n",
       "<style scoped>\n",
       "    .dataframe tbody tr th:only-of-type {\n",
       "        vertical-align: middle;\n",
       "    }\n",
       "\n",
       "    .dataframe tbody tr th {\n",
       "        vertical-align: top;\n",
       "    }\n",
       "\n",
       "    .dataframe thead th {\n",
       "        text-align: right;\n",
       "    }\n",
       "</style>\n",
       "<table border=\"1\" class=\"dataframe\">\n",
       "  <thead>\n",
       "    <tr style=\"text-align: right;\">\n",
       "      <th></th>\n",
       "      <th>Region</th>\n",
       "      <th>Fresh</th>\n",
       "      <th>Milk</th>\n",
       "      <th>Grocery</th>\n",
       "      <th>Frozen</th>\n",
       "      <th>Detergents_Paper</th>\n",
       "      <th>Delicassen</th>\n",
       "      <th>Type_1</th>\n",
       "    </tr>\n",
       "  </thead>\n",
       "  <tbody>\n",
       "    <tr>\n",
       "      <th>0</th>\n",
       "      <td>3</td>\n",
       "      <td>12669</td>\n",
       "      <td>9656</td>\n",
       "      <td>7561</td>\n",
       "      <td>214</td>\n",
       "      <td>2674</td>\n",
       "      <td>1338</td>\n",
       "      <td>0</td>\n",
       "    </tr>\n",
       "    <tr>\n",
       "      <th>1</th>\n",
       "      <td>3</td>\n",
       "      <td>7057</td>\n",
       "      <td>9810</td>\n",
       "      <td>9568</td>\n",
       "      <td>1762</td>\n",
       "      <td>3293</td>\n",
       "      <td>1776</td>\n",
       "      <td>0</td>\n",
       "    </tr>\n",
       "    <tr>\n",
       "      <th>2</th>\n",
       "      <td>3</td>\n",
       "      <td>6353</td>\n",
       "      <td>8808</td>\n",
       "      <td>7684</td>\n",
       "      <td>2405</td>\n",
       "      <td>3516</td>\n",
       "      <td>7844</td>\n",
       "      <td>0</td>\n",
       "    </tr>\n",
       "    <tr>\n",
       "      <th>3</th>\n",
       "      <td>3</td>\n",
       "      <td>13265</td>\n",
       "      <td>1196</td>\n",
       "      <td>4221</td>\n",
       "      <td>6404</td>\n",
       "      <td>507</td>\n",
       "      <td>1788</td>\n",
       "      <td>1</td>\n",
       "    </tr>\n",
       "    <tr>\n",
       "      <th>4</th>\n",
       "      <td>3</td>\n",
       "      <td>22615</td>\n",
       "      <td>5410</td>\n",
       "      <td>7198</td>\n",
       "      <td>3915</td>\n",
       "      <td>1777</td>\n",
       "      <td>5185</td>\n",
       "      <td>0</td>\n",
       "    </tr>\n",
       "  </tbody>\n",
       "</table>\n",
       "</div>"
      ],
      "text/plain": [
       "   Region  Fresh  Milk  Grocery  Frozen  Detergents_Paper  Delicassen  Type_1\n",
       "0       3  12669  9656     7561     214              2674        1338       0\n",
       "1       3   7057  9810     9568    1762              3293        1776       0\n",
       "2       3   6353  8808     7684    2405              3516        7844       0\n",
       "3       3  13265  1196     4221    6404               507        1788       1\n",
       "4       3  22615  5410     7198    3915              1777        5185       0"
      ]
     },
     "execution_count": 34,
     "metadata": {},
     "output_type": "execute_result"
    }
   ],
   "source": [
    "# Remove the Type_2 attribute because it is redundant\n",
    "df_hot.drop('Type_2', axis=1, inplace=True)\n",
    "df_hot.head()"
   ]
  },
  {
   "cell_type": "code",
   "execution_count": 35,
   "metadata": {},
   "outputs": [
    {
     "data": {
      "text/html": [
       "<div>\n",
       "<style scoped>\n",
       "    .dataframe tbody tr th:only-of-type {\n",
       "        vertical-align: middle;\n",
       "    }\n",
       "\n",
       "    .dataframe tbody tr th {\n",
       "        vertical-align: top;\n",
       "    }\n",
       "\n",
       "    .dataframe thead th {\n",
       "        text-align: right;\n",
       "    }\n",
       "</style>\n",
       "<table border=\"1\" class=\"dataframe\">\n",
       "  <thead>\n",
       "    <tr style=\"text-align: right;\">\n",
       "      <th></th>\n",
       "      <th>Fresh</th>\n",
       "      <th>Milk</th>\n",
       "      <th>Grocery</th>\n",
       "      <th>Frozen</th>\n",
       "      <th>Detergents_Paper</th>\n",
       "      <th>Delicassen</th>\n",
       "      <th>Type_1</th>\n",
       "      <th>Region_1</th>\n",
       "      <th>Region_2</th>\n",
       "      <th>Region_3</th>\n",
       "    </tr>\n",
       "  </thead>\n",
       "  <tbody>\n",
       "    <tr>\n",
       "      <th>0</th>\n",
       "      <td>12669</td>\n",
       "      <td>9656</td>\n",
       "      <td>7561</td>\n",
       "      <td>214</td>\n",
       "      <td>2674</td>\n",
       "      <td>1338</td>\n",
       "      <td>0</td>\n",
       "      <td>0</td>\n",
       "      <td>0</td>\n",
       "      <td>1</td>\n",
       "    </tr>\n",
       "    <tr>\n",
       "      <th>1</th>\n",
       "      <td>7057</td>\n",
       "      <td>9810</td>\n",
       "      <td>9568</td>\n",
       "      <td>1762</td>\n",
       "      <td>3293</td>\n",
       "      <td>1776</td>\n",
       "      <td>0</td>\n",
       "      <td>0</td>\n",
       "      <td>0</td>\n",
       "      <td>1</td>\n",
       "    </tr>\n",
       "    <tr>\n",
       "      <th>2</th>\n",
       "      <td>6353</td>\n",
       "      <td>8808</td>\n",
       "      <td>7684</td>\n",
       "      <td>2405</td>\n",
       "      <td>3516</td>\n",
       "      <td>7844</td>\n",
       "      <td>0</td>\n",
       "      <td>0</td>\n",
       "      <td>0</td>\n",
       "      <td>1</td>\n",
       "    </tr>\n",
       "    <tr>\n",
       "      <th>3</th>\n",
       "      <td>13265</td>\n",
       "      <td>1196</td>\n",
       "      <td>4221</td>\n",
       "      <td>6404</td>\n",
       "      <td>507</td>\n",
       "      <td>1788</td>\n",
       "      <td>1</td>\n",
       "      <td>0</td>\n",
       "      <td>0</td>\n",
       "      <td>1</td>\n",
       "    </tr>\n",
       "    <tr>\n",
       "      <th>4</th>\n",
       "      <td>22615</td>\n",
       "      <td>5410</td>\n",
       "      <td>7198</td>\n",
       "      <td>3915</td>\n",
       "      <td>1777</td>\n",
       "      <td>5185</td>\n",
       "      <td>0</td>\n",
       "      <td>0</td>\n",
       "      <td>0</td>\n",
       "      <td>1</td>\n",
       "    </tr>\n",
       "  </tbody>\n",
       "</table>\n",
       "</div>"
      ],
      "text/plain": [
       "   Fresh  Milk  Grocery  Frozen  Detergents_Paper  Delicassen  Type_1  \\\n",
       "0  12669  9656     7561     214              2674        1338       0   \n",
       "1   7057  9810     9568    1762              3293        1776       0   \n",
       "2   6353  8808     7684    2405              3516        7844       0   \n",
       "3  13265  1196     4221    6404               507        1788       1   \n",
       "4  22615  5410     7198    3915              1777        5185       0   \n",
       "\n",
       "   Region_1  Region_2  Region_3  \n",
       "0         0         0         1  \n",
       "1         0         0         1  \n",
       "2         0         0         1  \n",
       "3         0         0         1  \n",
       "4         0         0         1  "
      ]
     },
     "execution_count": 35,
     "metadata": {},
     "output_type": "execute_result"
    }
   ],
   "source": [
    "# Do the same thing for the other categorical attributes\n",
    "# WRITE YOUR CODE BELOW\n",
    "dummies = pd.get_dummies(df_hot['Region'], prefix='Region')  #create 2 binary attributes based on Type attrubute\n",
    "df_hot = pd.concat([df_hot, dummies], axis=1)    #add these attrubutes to data frame\n",
    "df_hot.drop('Region', axis=1, inplace=True)  # remove the categorical attribute from data frame\n",
    "df_hot.head()"
   ]
  },
  {
   "cell_type": "code",
   "execution_count": 36,
   "metadata": {},
   "outputs": [
    {
     "data": {
      "text/html": [
       "<div>\n",
       "<style scoped>\n",
       "    .dataframe tbody tr th:only-of-type {\n",
       "        vertical-align: middle;\n",
       "    }\n",
       "\n",
       "    .dataframe tbody tr th {\n",
       "        vertical-align: top;\n",
       "    }\n",
       "\n",
       "    .dataframe thead th {\n",
       "        text-align: right;\n",
       "    }\n",
       "</style>\n",
       "<table border=\"1\" class=\"dataframe\">\n",
       "  <thead>\n",
       "    <tr style=\"text-align: right;\">\n",
       "      <th></th>\n",
       "      <th>Fresh</th>\n",
       "      <th>Milk</th>\n",
       "      <th>Grocery</th>\n",
       "      <th>Frozen</th>\n",
       "      <th>Detergents_Paper</th>\n",
       "      <th>Delicassen</th>\n",
       "      <th>Type_1</th>\n",
       "      <th>Region_1</th>\n",
       "      <th>Region_2</th>\n",
       "    </tr>\n",
       "  </thead>\n",
       "  <tbody>\n",
       "    <tr>\n",
       "      <th>0</th>\n",
       "      <td>12669</td>\n",
       "      <td>9656</td>\n",
       "      <td>7561</td>\n",
       "      <td>214</td>\n",
       "      <td>2674</td>\n",
       "      <td>1338</td>\n",
       "      <td>0</td>\n",
       "      <td>0</td>\n",
       "      <td>0</td>\n",
       "    </tr>\n",
       "    <tr>\n",
       "      <th>1</th>\n",
       "      <td>7057</td>\n",
       "      <td>9810</td>\n",
       "      <td>9568</td>\n",
       "      <td>1762</td>\n",
       "      <td>3293</td>\n",
       "      <td>1776</td>\n",
       "      <td>0</td>\n",
       "      <td>0</td>\n",
       "      <td>0</td>\n",
       "    </tr>\n",
       "    <tr>\n",
       "      <th>2</th>\n",
       "      <td>6353</td>\n",
       "      <td>8808</td>\n",
       "      <td>7684</td>\n",
       "      <td>2405</td>\n",
       "      <td>3516</td>\n",
       "      <td>7844</td>\n",
       "      <td>0</td>\n",
       "      <td>0</td>\n",
       "      <td>0</td>\n",
       "    </tr>\n",
       "    <tr>\n",
       "      <th>3</th>\n",
       "      <td>13265</td>\n",
       "      <td>1196</td>\n",
       "      <td>4221</td>\n",
       "      <td>6404</td>\n",
       "      <td>507</td>\n",
       "      <td>1788</td>\n",
       "      <td>1</td>\n",
       "      <td>0</td>\n",
       "      <td>0</td>\n",
       "    </tr>\n",
       "    <tr>\n",
       "      <th>4</th>\n",
       "      <td>22615</td>\n",
       "      <td>5410</td>\n",
       "      <td>7198</td>\n",
       "      <td>3915</td>\n",
       "      <td>1777</td>\n",
       "      <td>5185</td>\n",
       "      <td>0</td>\n",
       "      <td>0</td>\n",
       "      <td>0</td>\n",
       "    </tr>\n",
       "  </tbody>\n",
       "</table>\n",
       "</div>"
      ],
      "text/plain": [
       "   Fresh  Milk  Grocery  Frozen  Detergents_Paper  Delicassen  Type_1  \\\n",
       "0  12669  9656     7561     214              2674        1338       0   \n",
       "1   7057  9810     9568    1762              3293        1776       0   \n",
       "2   6353  8808     7684    2405              3516        7844       0   \n",
       "3  13265  1196     4221    6404               507        1788       1   \n",
       "4  22615  5410     7198    3915              1777        5185       0   \n",
       "\n",
       "   Region_1  Region_2  \n",
       "0         0         0  \n",
       "1         0         0  \n",
       "2         0         0  \n",
       "3         0         0  \n",
       "4         0         0  "
      ]
     },
     "execution_count": 36,
     "metadata": {},
     "output_type": "execute_result"
    }
   ],
   "source": [
    "df_hot.drop('Region_3', axis=1, inplace=True)\n",
    "df_hot.head()"
   ]
  },
  {
   "cell_type": "code",
   "execution_count": 37,
   "metadata": {},
   "outputs": [
    {
     "data": {
      "text/plain": [
       "(440, 9)"
      ]
     },
     "execution_count": 37,
     "metadata": {},
     "output_type": "execute_result"
    }
   ],
   "source": [
    "# verify the shape of the new data frame\n",
    "df_hot.shape"
   ]
  },
  {
   "cell_type": "markdown",
   "metadata": {},
   "source": [
    "### b) Scale normalization\n",
    "In order to give equal importance to all our attributes, we are going to transform all attributes to the range [0,1].\n",
    "We will do this using the``MinMaxScaler`` class.\n",
    "\n",
    "**Reference**: http://scikit-learn.org/stable/modules/generated/sklearn.preprocessing.MinMaxScaler.html"
   ]
  },
  {
   "cell_type": "code",
   "execution_count": 61,
   "metadata": {},
   "outputs": [
    {
     "name": "stdout",
     "output_type": "stream",
     "text": [
      "            0         1         2         3         4         5    6    7    8\n",
      "0    0.112940  0.130727  0.081464  0.003106  0.065427  0.027847  0.0  0.0  0.0\n",
      "1    0.062899  0.132824  0.103097  0.028548  0.080590  0.036984  0.0  0.0  0.0\n",
      "2    0.056622  0.119181  0.082790  0.039116  0.086052  0.163559  0.0  0.0  0.0\n",
      "3    0.118254  0.015536  0.045464  0.104842  0.012346  0.037234  1.0  0.0  0.0\n",
      "4    0.201626  0.072914  0.077552  0.063934  0.043455  0.108093  0.0  0.0  0.0\n",
      "5    0.083907  0.111706  0.055218  0.010535  0.043896  0.030204  0.0  0.0  0.0\n",
      "6    0.108098  0.042809  0.075148  0.007478  0.076842  0.011306  0.0  0.0  0.0\n",
      "7    0.067554  0.066732  0.101566  0.027020  0.081276  0.053463  0.0  0.0  0.0\n",
      "8    0.053144  0.048922  0.066708  0.006574  0.041961  0.015582  1.0  0.0  0.0\n",
      "9    0.053527  0.150293  0.203477  0.018638  0.181805  0.043700  0.0  0.0  0.0\n",
      "10   0.029987  0.072818  0.139808  0.071905  0.146335  0.036316  0.0  0.0  0.0\n",
      "11   0.117193  0.014556  0.048719  0.022927  0.013374  0.010305  0.0  0.0  0.0\n",
      "12   0.282760  0.166987  0.126691  0.004306  0.094993  0.061076  0.0  0.0  0.0\n",
      "13   0.189161  0.083779  0.161452  0.050457  0.164217  0.012495  0.0  0.0  0.0\n",
      "14   0.219799  0.128127  0.130291  0.004421  0.123824  0.045161  0.0  0.0  0.0\n",
      "15   0.091397  0.014419  0.041152  0.006114  0.023540  0.008531  1.0  0.0  0.0\n",
      "16   0.009068  0.119290  0.130614  0.001791  0.110352  0.022466  0.0  0.0  0.0\n",
      "17   0.052368  0.083085  0.031581  0.013378  0.008990  0.093346  1.0  0.0  0.0\n",
      "18   0.165834  0.085400  0.108820  0.035829  0.067705  0.066291  0.0  0.0  0.0\n",
      "19   0.069346  0.033223  0.101976  0.010584  0.061606  0.010388  1.0  0.0  0.0\n",
      "20   0.156427  0.060782  0.049570  0.017109  0.055262  0.044243  0.0  0.0  0.0\n",
      "21   0.049613  0.011111  0.021633  0.055190  0.009112  0.011806  1.0  0.0  0.0\n",
      "22   0.278855  0.025353  0.048137  0.154214  0.058250  0.090342  1.0  0.0  0.0\n",
      "23   0.235136  0.495187  0.237300  0.084298  0.106163  0.344597  0.0  0.0  0.0\n",
      "24   0.201912  0.132361  0.148625  0.047499  0.109715  0.120463  0.0  0.0  0.0\n",
      "25   0.144113  0.056847  0.081831  0.002893  0.097982  0.001126  0.0  0.0  0.0\n",
      "26   0.088232  0.012336  0.030805  0.051377  0.005854  0.017313  1.0  0.0  0.0\n",
      "27   0.127269  0.010185  0.032788  0.007560  0.002376  0.010743  1.0  0.0  0.0\n",
      "28   0.036648  0.278161  0.279746  0.018621  0.210685  0.108531  0.0  0.0  0.0\n",
      "29   0.384180  0.027845  0.028089  0.019312  0.027043  0.017105  1.0  0.0  0.0\n",
      "..        ...       ...       ...       ...       ...       ...  ...  ...  ...\n",
      "410  0.059118  0.027790  0.049150  0.022418  0.045488  0.039403  1.0  0.0  0.0\n",
      "411  0.018930  0.044034  0.035332  0.024818  0.005683  0.090989  1.0  0.0  0.0\n",
      "412  0.000838  0.048337  0.133621  0.001200  0.072678  0.001231  1.0  0.0  0.0\n",
      "413  0.044406  0.065411  0.071462  0.293225  0.022266  0.050730  1.0  0.0  0.0\n",
      "414  0.053198  0.026347  0.036798  0.092926  0.027729  0.005987  1.0  0.0  0.0\n",
      "415  0.069899  0.081573  0.092146  0.027382  0.086640  0.039028  0.0  0.0  0.0\n",
      "416  0.039109  0.148210  0.117540  0.013526  0.164732  0.020651  0.0  0.0  0.0\n",
      "417  0.045137  0.074126  0.119124  0.005572  0.085293  0.022111  1.0  0.0  0.0\n",
      "418  0.005858  0.114905  0.200686  0.001775  0.165025  0.016124  0.0  0.0  0.0\n",
      "419  0.078985  0.050760  0.023928  0.009993  0.038629  0.031665  1.0  0.0  0.0\n",
      "420  0.039706  0.070953  0.142535  0.000000  0.166936  0.028995  1.0  0.0  0.0\n",
      "421  0.152120  0.065248  0.097546  0.016534  0.083578  0.037151  0.0  0.0  0.0\n",
      "422  0.235376  0.018000  0.044936  0.013231  0.023148  0.025344  1.0  0.0  0.0\n",
      "423  0.156597  0.049440  0.050163  0.016994  0.044092  0.013872  0.0  0.0  0.0\n",
      "424  0.151380  0.038520  0.131811  0.013954  0.078630  0.005131  0.0  0.0  0.0\n",
      "425  0.100225  0.032038  0.027916  0.251841  0.002572  0.039278  1.0  0.0  0.0\n",
      "426  0.117086  0.126520  0.154273  0.051213  0.124339  0.039445  1.0  0.0  0.0\n",
      "427  0.276501  0.226461  0.058484  0.247469  0.010680  0.024197  1.0  0.0  0.0\n",
      "428  0.027143  0.080539  0.052890  0.035714  0.020748  0.006550  1.0  0.0  0.0\n",
      "429  0.076720  0.023079  0.038555  0.000362  0.001984  0.052107  1.0  0.0  0.0\n",
      "430  0.027589  0.056847  0.177630  0.009040  0.005830  0.043325  1.0  0.0  0.0\n",
      "431  0.076060  0.074221  0.055585  0.221238  0.033657  0.031185  1.0  0.0  0.0\n",
      "432  0.188269  0.015073  0.051209  0.004010  0.032456  0.008177  1.0  0.0  0.0\n",
      "433  0.017646  0.043067  0.016060  0.024916  0.008647  0.030163  1.0  0.0  0.0\n",
      "434  0.149160  0.052653  0.086131  0.010897  0.058005  0.017418  1.0  0.0  0.0\n",
      "435  0.264829  0.163338  0.172715  0.215469  0.004385  0.045912  1.0  0.0  0.0\n",
      "436  0.349761  0.018736  0.008202  0.073713  0.002205  0.048874  1.0  0.0  0.0\n",
      "437  0.129543  0.210136  0.325943  0.006771  0.363463  0.038882  0.0  0.0  0.0\n",
      "438  0.091727  0.026224  0.024025  0.016649  0.004042  0.044264  1.0  0.0  0.0\n",
      "439  0.024824  0.022371  0.027022  0.000657  0.011611  0.001022  1.0  0.0  0.0\n",
      "\n",
      "[440 rows x 9 columns]\n"
     ]
    }
   ],
   "source": [
    "# WRITE YOUR CODE BELOW (try to follow the comments)\n",
    "\n",
    "# create an instance of MinMaxScaler class\n",
    "scaler = MinMaxScaler()\n",
    "\n",
    "# call the fit() method\n",
    "scaler.fit(df_hot)\n",
    "\n",
    "# call the transform() method\n",
    "scaler = scaler.transform(df_hot)\n",
    "\n",
    "# put the result in a data frame called df_transformed\n",
    "df_transformed = pd.DataFrame(scaler)\n",
    "\n",
    "print(df_transformed)"
   ]
  },
  {
   "cell_type": "code",
   "execution_count": 62,
   "metadata": {},
   "outputs": [
    {
     "data": {
      "text/plain": [
       "(440, 9)"
      ]
     },
     "execution_count": 62,
     "metadata": {},
     "output_type": "execute_result"
    }
   ],
   "source": [
    "# Check the size of the new data frame\n",
    "df_transformed.shape"
   ]
  },
  {
   "cell_type": "code",
   "execution_count": 63,
   "metadata": {},
   "outputs": [
    {
     "data": {
      "text/html": [
       "<div>\n",
       "<style scoped>\n",
       "    .dataframe tbody tr th:only-of-type {\n",
       "        vertical-align: middle;\n",
       "    }\n",
       "\n",
       "    .dataframe tbody tr th {\n",
       "        vertical-align: top;\n",
       "    }\n",
       "\n",
       "    .dataframe thead th {\n",
       "        text-align: right;\n",
       "    }\n",
       "</style>\n",
       "<table border=\"1\" class=\"dataframe\">\n",
       "  <thead>\n",
       "    <tr style=\"text-align: right;\">\n",
       "      <th></th>\n",
       "      <th>0</th>\n",
       "      <th>1</th>\n",
       "      <th>2</th>\n",
       "      <th>3</th>\n",
       "      <th>4</th>\n",
       "      <th>5</th>\n",
       "      <th>6</th>\n",
       "      <th>7</th>\n",
       "      <th>8</th>\n",
       "    </tr>\n",
       "  </thead>\n",
       "  <tbody>\n",
       "    <tr>\n",
       "      <th>0</th>\n",
       "      <td>0.112940</td>\n",
       "      <td>0.130727</td>\n",
       "      <td>0.081464</td>\n",
       "      <td>0.003106</td>\n",
       "      <td>0.065427</td>\n",
       "      <td>0.027847</td>\n",
       "      <td>0.0</td>\n",
       "      <td>0.0</td>\n",
       "      <td>0.0</td>\n",
       "    </tr>\n",
       "    <tr>\n",
       "      <th>1</th>\n",
       "      <td>0.062899</td>\n",
       "      <td>0.132824</td>\n",
       "      <td>0.103097</td>\n",
       "      <td>0.028548</td>\n",
       "      <td>0.080590</td>\n",
       "      <td>0.036984</td>\n",
       "      <td>0.0</td>\n",
       "      <td>0.0</td>\n",
       "      <td>0.0</td>\n",
       "    </tr>\n",
       "    <tr>\n",
       "      <th>2</th>\n",
       "      <td>0.056622</td>\n",
       "      <td>0.119181</td>\n",
       "      <td>0.082790</td>\n",
       "      <td>0.039116</td>\n",
       "      <td>0.086052</td>\n",
       "      <td>0.163559</td>\n",
       "      <td>0.0</td>\n",
       "      <td>0.0</td>\n",
       "      <td>0.0</td>\n",
       "    </tr>\n",
       "    <tr>\n",
       "      <th>3</th>\n",
       "      <td>0.118254</td>\n",
       "      <td>0.015536</td>\n",
       "      <td>0.045464</td>\n",
       "      <td>0.104842</td>\n",
       "      <td>0.012346</td>\n",
       "      <td>0.037234</td>\n",
       "      <td>1.0</td>\n",
       "      <td>0.0</td>\n",
       "      <td>0.0</td>\n",
       "    </tr>\n",
       "    <tr>\n",
       "      <th>4</th>\n",
       "      <td>0.201626</td>\n",
       "      <td>0.072914</td>\n",
       "      <td>0.077552</td>\n",
       "      <td>0.063934</td>\n",
       "      <td>0.043455</td>\n",
       "      <td>0.108093</td>\n",
       "      <td>0.0</td>\n",
       "      <td>0.0</td>\n",
       "      <td>0.0</td>\n",
       "    </tr>\n",
       "  </tbody>\n",
       "</table>\n",
       "</div>"
      ],
      "text/plain": [
       "          0         1         2         3         4         5    6    7    8\n",
       "0  0.112940  0.130727  0.081464  0.003106  0.065427  0.027847  0.0  0.0  0.0\n",
       "1  0.062899  0.132824  0.103097  0.028548  0.080590  0.036984  0.0  0.0  0.0\n",
       "2  0.056622  0.119181  0.082790  0.039116  0.086052  0.163559  0.0  0.0  0.0\n",
       "3  0.118254  0.015536  0.045464  0.104842  0.012346  0.037234  1.0  0.0  0.0\n",
       "4  0.201626  0.072914  0.077552  0.063934  0.043455  0.108093  0.0  0.0  0.0"
      ]
     },
     "execution_count": 63,
     "metadata": {},
     "output_type": "execute_result"
    }
   ],
   "source": [
    "# Check the first few lines in the new data frame\n",
    "df_transformed.head()"
   ]
  },
  {
   "cell_type": "code",
   "execution_count": 64,
   "metadata": {},
   "outputs": [
    {
     "data": {
      "text/html": [
       "<div>\n",
       "<style scoped>\n",
       "    .dataframe tbody tr th:only-of-type {\n",
       "        vertical-align: middle;\n",
       "    }\n",
       "\n",
       "    .dataframe tbody tr th {\n",
       "        vertical-align: top;\n",
       "    }\n",
       "\n",
       "    .dataframe thead th {\n",
       "        text-align: right;\n",
       "    }\n",
       "</style>\n",
       "<table border=\"1\" class=\"dataframe\">\n",
       "  <thead>\n",
       "    <tr style=\"text-align: right;\">\n",
       "      <th></th>\n",
       "      <th>0</th>\n",
       "      <th>1</th>\n",
       "      <th>2</th>\n",
       "      <th>3</th>\n",
       "      <th>4</th>\n",
       "      <th>5</th>\n",
       "      <th>6</th>\n",
       "      <th>7</th>\n",
       "      <th>8</th>\n",
       "    </tr>\n",
       "  </thead>\n",
       "  <tbody>\n",
       "    <tr>\n",
       "      <th>count</th>\n",
       "      <td>440.000000</td>\n",
       "      <td>440.000000</td>\n",
       "      <td>440.000000</td>\n",
       "      <td>440.000000</td>\n",
       "      <td>440.000000</td>\n",
       "      <td>440.000000</td>\n",
       "      <td>440.000000</td>\n",
       "      <td>440.0000</td>\n",
       "      <td>440.000000</td>\n",
       "    </tr>\n",
       "    <tr>\n",
       "      <th>mean</th>\n",
       "      <td>0.106977</td>\n",
       "      <td>0.078173</td>\n",
       "      <td>0.085671</td>\n",
       "      <td>0.050078</td>\n",
       "      <td>0.070510</td>\n",
       "      <td>0.031745</td>\n",
       "      <td>0.677273</td>\n",
       "      <td>0.1750</td>\n",
       "      <td>0.106818</td>\n",
       "    </tr>\n",
       "    <tr>\n",
       "      <th>std</th>\n",
       "      <td>0.112774</td>\n",
       "      <td>0.100491</td>\n",
       "      <td>0.102430</td>\n",
       "      <td>0.079789</td>\n",
       "      <td>0.116790</td>\n",
       "      <td>0.058826</td>\n",
       "      <td>0.468052</td>\n",
       "      <td>0.3804</td>\n",
       "      <td>0.309234</td>\n",
       "    </tr>\n",
       "    <tr>\n",
       "      <th>min</th>\n",
       "      <td>0.000000</td>\n",
       "      <td>0.000000</td>\n",
       "      <td>0.000000</td>\n",
       "      <td>0.000000</td>\n",
       "      <td>0.000000</td>\n",
       "      <td>0.000000</td>\n",
       "      <td>0.000000</td>\n",
       "      <td>0.0000</td>\n",
       "      <td>0.000000</td>\n",
       "    </tr>\n",
       "    <tr>\n",
       "      <th>25%</th>\n",
       "      <td>0.027863</td>\n",
       "      <td>0.020124</td>\n",
       "      <td>0.023174</td>\n",
       "      <td>0.011788</td>\n",
       "      <td>0.006216</td>\n",
       "      <td>0.008453</td>\n",
       "      <td>0.000000</td>\n",
       "      <td>0.0000</td>\n",
       "      <td>0.000000</td>\n",
       "    </tr>\n",
       "    <tr>\n",
       "      <th>50%</th>\n",
       "      <td>0.075802</td>\n",
       "      <td>0.048636</td>\n",
       "      <td>0.051225</td>\n",
       "      <td>0.024670</td>\n",
       "      <td>0.019927</td>\n",
       "      <td>0.020077</td>\n",
       "      <td>1.000000</td>\n",
       "      <td>0.0000</td>\n",
       "      <td>0.000000</td>\n",
       "    </tr>\n",
       "    <tr>\n",
       "      <th>75%</th>\n",
       "      <td>0.150968</td>\n",
       "      <td>0.097154</td>\n",
       "      <td>0.114821</td>\n",
       "      <td>0.058005</td>\n",
       "      <td>0.095997</td>\n",
       "      <td>0.037907</td>\n",
       "      <td>1.000000</td>\n",
       "      <td>0.0000</td>\n",
       "      <td>0.000000</td>\n",
       "    </tr>\n",
       "    <tr>\n",
       "      <th>max</th>\n",
       "      <td>1.000000</td>\n",
       "      <td>1.000000</td>\n",
       "      <td>1.000000</td>\n",
       "      <td>1.000000</td>\n",
       "      <td>1.000000</td>\n",
       "      <td>1.000000</td>\n",
       "      <td>1.000000</td>\n",
       "      <td>1.0000</td>\n",
       "      <td>1.000000</td>\n",
       "    </tr>\n",
       "  </tbody>\n",
       "</table>\n",
       "</div>"
      ],
      "text/plain": [
       "                0           1           2           3           4           5  \\\n",
       "count  440.000000  440.000000  440.000000  440.000000  440.000000  440.000000   \n",
       "mean     0.106977    0.078173    0.085671    0.050078    0.070510    0.031745   \n",
       "std      0.112774    0.100491    0.102430    0.079789    0.116790    0.058826   \n",
       "min      0.000000    0.000000    0.000000    0.000000    0.000000    0.000000   \n",
       "25%      0.027863    0.020124    0.023174    0.011788    0.006216    0.008453   \n",
       "50%      0.075802    0.048636    0.051225    0.024670    0.019927    0.020077   \n",
       "75%      0.150968    0.097154    0.114821    0.058005    0.095997    0.037907   \n",
       "max      1.000000    1.000000    1.000000    1.000000    1.000000    1.000000   \n",
       "\n",
       "                6         7           8  \n",
       "count  440.000000  440.0000  440.000000  \n",
       "mean     0.677273    0.1750    0.106818  \n",
       "std      0.468052    0.3804    0.309234  \n",
       "min      0.000000    0.0000    0.000000  \n",
       "25%      0.000000    0.0000    0.000000  \n",
       "50%      1.000000    0.0000    0.000000  \n",
       "75%      1.000000    0.0000    0.000000  \n",
       "max      1.000000    1.0000    1.000000  "
      ]
     },
     "execution_count": 64,
     "metadata": {},
     "output_type": "execute_result"
    }
   ],
   "source": [
    "# Check the distribution of values (make sure they are between 0 and 1)\n",
    "df_transformed.describe()"
   ]
  },
  {
   "cell_type": "markdown",
   "metadata": {},
   "source": [
    "******"
   ]
  },
  {
   "cell_type": "markdown",
   "metadata": {},
   "source": [
    "## kMeans Clustering Method"
   ]
  },
  {
   "cell_type": "markdown",
   "metadata": {},
   "source": [
    "**References: **\n",
    "- http://scikit-learn.org/stable/modules/generated/sklearn.cluster.KMeans.html\n",
    "- http://scikit-learn.org/stable/auto_examples/cluster/plot_kmeans_silhouette_analysis.html"
   ]
  },
  {
   "cell_type": "code",
   "execution_count": 79,
   "metadata": {},
   "outputs": [],
   "source": [
    "# Read documentation of KMeans class constructor\n",
    "?KMeans"
   ]
  },
  {
   "cell_type": "code",
   "execution_count": 72,
   "metadata": {},
   "outputs": [
    {
     "data": {
      "text/plain": [
       "KMeans(algorithm='auto', copy_x=True, init='k-means++', max_iter=300,\n",
       "    n_clusters=3, n_init=10, n_jobs=1, precompute_distances='auto',\n",
       "    random_state=10, tol=0.0001, verbose=0)"
      ]
     },
     "execution_count": 72,
     "metadata": {},
     "output_type": "execute_result"
    }
   ],
   "source": [
    "# Run kMeans with 3 clusters\n",
    "K = 3\n",
    "km = KMeans(n_clusters=K, random_state=10)   # create instance of KMeans class\n",
    "km.fit(df_transformed)  # run kMeans algorithm with 3 clusters"
   ]
  },
  {
   "cell_type": "code",
   "execution_count": 73,
   "metadata": {},
   "outputs": [
    {
     "data": {
      "text/plain": [
       "75.07473014024927"
      ]
     },
     "execution_count": 73,
     "metadata": {},
     "output_type": "execute_result"
    }
   ],
   "source": [
    "# Determine the value of SSD (Sum of Squared Distances)\n",
    "km.inertia_"
   ]
  },
  {
   "cell_type": "code",
   "execution_count": 82,
   "metadata": {},
   "outputs": [
    {
     "data": {
      "text/plain": [
       "0    239\n",
       "1    124\n",
       "2     77\n",
       "dtype: int64"
      ]
     },
     "execution_count": 82,
     "metadata": {},
     "output_type": "execute_result"
    }
   ],
   "source": [
    "# How many objects are there in each cluster?\n",
    "# Hint: use km.labels_ (member variable of KMeans class)\n",
    "# WRITE YOUR CODE BELOW\n",
    "pd.Series(km.labels_).value_counts()"
   ]
  },
  {
   "cell_type": "code",
   "execution_count": 83,
   "metadata": {},
   "outputs": [],
   "source": [
    "# Run kMeans algorithm with different values of K: K=1,...,15  and store the value of SSD for each K in a list\n",
    "# COMPLETE THE CODE BELOW\n",
    "\n",
    "K_values = range(1,16)\n",
    "Sum_of_squared_distances = []   # initialize empty list to store SSD values\n",
    "for k in K_values:\n",
    "    km = KMeans(n_clusters=k, random_state=10)   # create instance of KMeans class\n",
    "    km.fit(df_transformed)\n",
    "    x = km.inertia_\n",
    "    Sum_of_squared_distances.append(x)"
   ]
  },
  {
   "cell_type": "code",
   "execution_count": 84,
   "metadata": {},
   "outputs": [
    {
     "data": {
      "text/plain": [
       "[<matplotlib.lines.Line2D at 0x17dc18a92b0>]"
      ]
     },
     "execution_count": 84,
     "metadata": {},
     "output_type": "execute_result"
    },
    {
     "data": {
      "image/png": "[encoded data removed]",
      "text/plain": [
       "<matplotlib.figure.Figure at 0x17dc04d3208>"
      ]
     },
     "metadata": {},
     "output_type": "display_data"
    }
   ],
   "source": [
    "# Plot Sum_of_squared_distances vs. K_values\n",
    "# Hint: use the function plt.plot() ...\n",
    "# WRITE YOUR CODE BELOW\n",
    "plt.plot(Sum_of_squared_distances)"
   ]
  },
  {
   "cell_type": "code",
   "execution_count": 85,
   "metadata": {},
   "outputs": [
    {
     "data": {
      "text/plain": [
       "KMeans(algorithm='auto', copy_x=True, init='k-means++', max_iter=300,\n",
       "    n_clusters=5, n_init=10, n_jobs=1, precompute_distances='auto',\n",
       "    random_state=10, tol=0.0001, verbose=0)"
      ]
     },
     "execution_count": 85,
     "metadata": {},
     "output_type": "execute_result"
    }
   ],
   "source": [
    "# Re-run kMeans with the best value of K\n",
    "# WRITE YOUR CODE BELOW\n",
    "K = 5\n",
    "km = KMeans(n_clusters=K, random_state=10)   # create instance of KMeans class\n",
    "km.fit(df_transformed)"
   ]
  },
  {
   "cell_type": "code",
   "execution_count": 86,
   "metadata": {},
   "outputs": [
    {
     "data": {
      "text/plain": [
       "31.52287127609206"
      ]
     },
     "execution_count": 86,
     "metadata": {},
     "output_type": "execute_result"
    }
   ],
   "source": [
    "km.inertia_"
   ]
  },
  {
   "cell_type": "code",
   "execution_count": 90,
   "metadata": {},
   "outputs": [
    {
     "name": "stdout",
     "output_type": "stream",
     "text": [
      "0.7491712768585141\n"
     ]
    }
   ],
   "source": [
    "# Calculate the silhouette coefficient by calling the function silhouette_score() imported at the beginning of this file\n",
    "# Reference: http://scikit-learn.org/stable/auto_examples/cluster/plot_kmeans_silhouette_analysis.html\n",
    "# WRITE YOUR CODE BELOW\n",
    "scores = silhouette_score(df_transformed, km.labels_)\n",
    "print(scores)"
   ]
  },
  {
   "cell_type": "markdown",
   "metadata": {},
   "source": [
    "****"
   ]
  }
 ],
 "metadata": {
  "kernelspec": {
   "display_name": "Python 3",
   "language": "python",
   "name": "python3"
  },
  "language_info": {
   "codemirror_mode": {
    "name": "ipython",
    "version": 3
   },
   "file_extension": ".py",
   "mimetype": "text/x-python",
   "name": "python",
   "nbconvert_exporter": "python",
   "pygments_lexer": "ipython3",
   "version": "3.6.4"
  }
 },
 "nbformat": 4,
 "nbformat_minor": 2
}
